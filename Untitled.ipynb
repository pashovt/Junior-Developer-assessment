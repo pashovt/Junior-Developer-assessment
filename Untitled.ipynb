{
 "cells": [
  {
   "cell_type": "code",
   "execution_count": 1,
   "metadata": {},
   "outputs": [],
   "source": [
    "import pandas as pd\n",
    "import gzip\n",
    "import yaml"
   ]
  },
  {
   "cell_type": "markdown",
   "metadata": {},
   "source": [
    "Unzip and read file"
   ]
  },
  {
   "cell_type": "code",
   "execution_count": 2,
   "metadata": {},
   "outputs": [],
   "source": [
    "with gzip.open('weather.json.gz', 'rb') as f:\n",
    "    file_content = f.read()"
   ]
  },
  {
   "cell_type": "markdown",
   "metadata": {},
   "source": [
    "Transform into str"
   ]
  },
  {
   "cell_type": "code",
   "execution_count": 3,
   "metadata": {},
   "outputs": [],
   "source": [
    "my_bytes = file_content.decode('utf8').split('\\n')\n",
    "ls = []"
   ]
  },
  {
   "cell_type": "markdown",
   "metadata": {},
   "source": [
    "Sample data for lon and lat"
   ]
  },
  {
   "cell_type": "code",
   "execution_count": 4,
   "metadata": {},
   "outputs": [
    {
     "data": {
      "text/plain": [
       "\"\\nsample = yaml.safe_load(my_bytes[0])\\nlon, lat = sample['city']['coord']['lon'], sample['city']['coord']['lat']\\n\""
      ]
     },
     "execution_count": 4,
     "metadata": {},
     "output_type": "execute_result"
    }
   ],
   "source": [
    "\"\"\"\n",
    "sample = yaml.safe_load(my_bytes[0])\n",
    "lon, lat = sample['city']['coord']['lon'], sample['city']['coord']['lat']\n",
    "\"\"\"\n",
    "#print(lon, lat)"
   ]
  },
  {
   "cell_type": "code",
   "execution_count": 5,
   "metadata": {},
   "outputs": [],
   "source": [
    "for ind in range(len(my_bytes)):\n",
    "    #print(my_bytes[ind])\n",
    "    if 'BG' in my_bytes[ind]:\n",
    "        #print(my_bytes[ind])\n",
    "        ls.append(yaml.safe_load(my_bytes[ind]))"
   ]
  },
  {
   "cell_type": "code",
   "execution_count": 6,
   "metadata": {},
   "outputs": [],
   "source": [
    "fr = pd.DataFrame(ls)"
   ]
  },
  {
   "cell_type": "code",
   "execution_count": 7,
   "metadata": {},
   "outputs": [
    {
     "data": {
      "text/html": [
       "<div>\n",
       "<style scoped>\n",
       "    .dataframe tbody tr th:only-of-type {\n",
       "        vertical-align: middle;\n",
       "    }\n",
       "\n",
       "    .dataframe tbody tr th {\n",
       "        vertical-align: top;\n",
       "    }\n",
       "\n",
       "    .dataframe thead th {\n",
       "        text-align: right;\n",
       "    }\n",
       "</style>\n",
       "<table border=\"1\" class=\"dataframe\">\n",
       "  <thead>\n",
       "    <tr style=\"text-align: right;\">\n",
       "      <th></th>\n",
       "      <th>city</th>\n",
       "      <th>time</th>\n",
       "      <th>main</th>\n",
       "      <th>wind</th>\n",
       "      <th>clouds</th>\n",
       "      <th>weather</th>\n",
       "    </tr>\n",
       "  </thead>\n",
       "  <tbody>\n",
       "    <tr>\n",
       "      <th>0</th>\n",
       "      <td>{'id': 453751, 'name': 'Oblast Razgrad', 'find...</td>\n",
       "      <td>1554462308</td>\n",
       "      <td>{'temp': 291.679, 'pressure': 1013.03, 'humidi...</td>\n",
       "      <td>{'speed': 6.72, 'deg': 145.5}</td>\n",
       "      <td>{'all': 0}</td>\n",
       "      <td>[{'id': 800, 'main': 'Clear', 'description': '...</td>\n",
       "    </tr>\n",
       "    <tr>\n",
       "      <th>1</th>\n",
       "      <td>{'id': 453753, 'name': 'Oblast Montana', 'find...</td>\n",
       "      <td>1554462308</td>\n",
       "      <td>{'temp': 289.82, 'pressure': 966, 'humidity': ...</td>\n",
       "      <td>{'speed': 4.37, 'deg': 90}</td>\n",
       "      <td>{'all': 68}</td>\n",
       "      <td>[{'id': 803, 'main': 'Clouds', 'description': ...</td>\n",
       "    </tr>\n",
       "    <tr>\n",
       "      <th>2</th>\n",
       "      <td>{'id': 537345, 'name': 'Dugulubgey', 'findname...</td>\n",
       "      <td>1554462309</td>\n",
       "      <td>{'temp': 285.51, 'pressure': 1019, 'humidity':...</td>\n",
       "      <td>{'speed': 3, 'deg': 90}</td>\n",
       "      <td>{'all': 0}</td>\n",
       "      <td>[{'id': 800, 'main': 'Clear', 'description': '...</td>\n",
       "    </tr>\n",
       "    <tr>\n",
       "      <th>3</th>\n",
       "      <td>{'id': 563601, 'name': 'Dzhubga', 'findname': ...</td>\n",
       "      <td>1554462313</td>\n",
       "      <td>{'temp': 289.179, 'pressure': 1018.59, 'humidi...</td>\n",
       "      <td>{'speed': 0.92, 'deg': 268}</td>\n",
       "      <td>{'all': 0}</td>\n",
       "      <td>[{'id': 800, 'main': 'Clear', 'description': '...</td>\n",
       "    </tr>\n",
       "    <tr>\n",
       "      <th>4</th>\n",
       "      <td>{'id': 583969, 'name': 'Aibga', 'findname': 'A...</td>\n",
       "      <td>1554462314</td>\n",
       "      <td>{'temp': 288.2, 'pressure': 1018, 'humidity': ...</td>\n",
       "      <td>{'speed': 3, 'deg': 280}</td>\n",
       "      <td>{'all': 0}</td>\n",
       "      <td>[{'id': 800, 'main': 'Clear', 'description': '...</td>\n",
       "    </tr>\n",
       "    <tr>\n",
       "      <th>...</th>\n",
       "      <td>...</td>\n",
       "      <td>...</td>\n",
       "      <td>...</td>\n",
       "      <td>...</td>\n",
       "      <td>...</td>\n",
       "      <td>...</td>\n",
       "    </tr>\n",
       "    <tr>\n",
       "      <th>1386</th>\n",
       "      <td>{'id': 6546695, 'name': 'Khouribga', 'findname...</td>\n",
       "      <td>1554462480</td>\n",
       "      <td>{'temp': 285.629, 'pressure': 1011.47, 'humidi...</td>\n",
       "      <td>{'speed': 8.17, 'deg': 229.5}</td>\n",
       "      <td>{'all': 92}</td>\n",
       "      <td>[{'id': 500, 'main': 'Rain', 'description': 'l...</td>\n",
       "    </tr>\n",
       "    <tr>\n",
       "      <th>1387</th>\n",
       "      <td>{'id': 6556822, 'name': 'Trebgast', 'findname'...</td>\n",
       "      <td>1554462486</td>\n",
       "      <td>{'temp': 281.16, 'pressure': 1005, 'humidity':...</td>\n",
       "      <td>{'speed': 1.97, 'deg': 77}</td>\n",
       "      <td>{'all': 90}</td>\n",
       "      <td>[{'id': 804, 'main': 'Clouds', 'description': ...</td>\n",
       "    </tr>\n",
       "    <tr>\n",
       "      <th>1388</th>\n",
       "      <td>{'id': 6956552, 'name': 'Асенова махала', 'fin...</td>\n",
       "      <td>1554462490</td>\n",
       "      <td>{'temp': 292.4, 'pressure': 1011, 'humidity': ...</td>\n",
       "      <td>{'speed': 7.2, 'deg': 160}</td>\n",
       "      <td>{'all': 0}</td>\n",
       "      <td>[{'id': 800, 'main': 'Clear', 'description': '...</td>\n",
       "    </tr>\n",
       "    <tr>\n",
       "      <th>1389</th>\n",
       "      <td>{'id': 8018743, 'name': 'Babgot', 'findname': ...</td>\n",
       "      <td>1554462504</td>\n",
       "      <td>{'temp': 294.779, 'pressure': 1011.47, 'humidi...</td>\n",
       "      <td>{'speed': 0.62, 'deg': 30}</td>\n",
       "      <td>{'all': 76}</td>\n",
       "      <td>[{'id': 500, 'main': 'Rain', 'description': 'l...</td>\n",
       "    </tr>\n",
       "    <tr>\n",
       "      <th>1390</th>\n",
       "      <td>{'id': 8056119, 'name': 'Sibgyi', 'findname': ...</td>\n",
       "      <td>1554462504</td>\n",
       "      <td>{'temp': 269.979, 'pressure': 1010.03, 'humidi...</td>\n",
       "      <td>{'speed': 0.27, 'deg': 324.5}</td>\n",
       "      <td>{'all': 56}</td>\n",
       "      <td>[{'id': 803, 'main': 'Clouds', 'description': ...</td>\n",
       "    </tr>\n",
       "  </tbody>\n",
       "</table>\n",
       "<p>1391 rows × 6 columns</p>\n",
       "</div>"
      ],
      "text/plain": [
       "                                                   city        time  \\\n",
       "0     {'id': 453751, 'name': 'Oblast Razgrad', 'find...  1554462308   \n",
       "1     {'id': 453753, 'name': 'Oblast Montana', 'find...  1554462308   \n",
       "2     {'id': 537345, 'name': 'Dugulubgey', 'findname...  1554462309   \n",
       "3     {'id': 563601, 'name': 'Dzhubga', 'findname': ...  1554462313   \n",
       "4     {'id': 583969, 'name': 'Aibga', 'findname': 'A...  1554462314   \n",
       "...                                                 ...         ...   \n",
       "1386  {'id': 6546695, 'name': 'Khouribga', 'findname...  1554462480   \n",
       "1387  {'id': 6556822, 'name': 'Trebgast', 'findname'...  1554462486   \n",
       "1388  {'id': 6956552, 'name': 'Асенова махала', 'fin...  1554462490   \n",
       "1389  {'id': 8018743, 'name': 'Babgot', 'findname': ...  1554462504   \n",
       "1390  {'id': 8056119, 'name': 'Sibgyi', 'findname': ...  1554462504   \n",
       "\n",
       "                                                   main  \\\n",
       "0     {'temp': 291.679, 'pressure': 1013.03, 'humidi...   \n",
       "1     {'temp': 289.82, 'pressure': 966, 'humidity': ...   \n",
       "2     {'temp': 285.51, 'pressure': 1019, 'humidity':...   \n",
       "3     {'temp': 289.179, 'pressure': 1018.59, 'humidi...   \n",
       "4     {'temp': 288.2, 'pressure': 1018, 'humidity': ...   \n",
       "...                                                 ...   \n",
       "1386  {'temp': 285.629, 'pressure': 1011.47, 'humidi...   \n",
       "1387  {'temp': 281.16, 'pressure': 1005, 'humidity':...   \n",
       "1388  {'temp': 292.4, 'pressure': 1011, 'humidity': ...   \n",
       "1389  {'temp': 294.779, 'pressure': 1011.47, 'humidi...   \n",
       "1390  {'temp': 269.979, 'pressure': 1010.03, 'humidi...   \n",
       "\n",
       "                               wind       clouds  \\\n",
       "0     {'speed': 6.72, 'deg': 145.5}   {'all': 0}   \n",
       "1        {'speed': 4.37, 'deg': 90}  {'all': 68}   \n",
       "2           {'speed': 3, 'deg': 90}   {'all': 0}   \n",
       "3       {'speed': 0.92, 'deg': 268}   {'all': 0}   \n",
       "4          {'speed': 3, 'deg': 280}   {'all': 0}   \n",
       "...                             ...          ...   \n",
       "1386  {'speed': 8.17, 'deg': 229.5}  {'all': 92}   \n",
       "1387     {'speed': 1.97, 'deg': 77}  {'all': 90}   \n",
       "1388     {'speed': 7.2, 'deg': 160}   {'all': 0}   \n",
       "1389     {'speed': 0.62, 'deg': 30}  {'all': 76}   \n",
       "1390  {'speed': 0.27, 'deg': 324.5}  {'all': 56}   \n",
       "\n",
       "                                                weather  \n",
       "0     [{'id': 800, 'main': 'Clear', 'description': '...  \n",
       "1     [{'id': 803, 'main': 'Clouds', 'description': ...  \n",
       "2     [{'id': 800, 'main': 'Clear', 'description': '...  \n",
       "3     [{'id': 800, 'main': 'Clear', 'description': '...  \n",
       "4     [{'id': 800, 'main': 'Clear', 'description': '...  \n",
       "...                                                 ...  \n",
       "1386  [{'id': 500, 'main': 'Rain', 'description': 'l...  \n",
       "1387  [{'id': 804, 'main': 'Clouds', 'description': ...  \n",
       "1388  [{'id': 800, 'main': 'Clear', 'description': '...  \n",
       "1389  [{'id': 500, 'main': 'Rain', 'description': 'l...  \n",
       "1390  [{'id': 803, 'main': 'Clouds', 'description': ...  \n",
       "\n",
       "[1391 rows x 6 columns]"
      ]
     },
     "execution_count": 7,
     "metadata": {},
     "output_type": "execute_result"
    }
   ],
   "source": [
    "fr"
   ]
  },
  {
   "cell_type": "markdown",
   "metadata": {},
   "source": [
    "Date stamp"
   ]
  },
  {
   "cell_type": "code",
   "execution_count": 8,
   "metadata": {},
   "outputs": [],
   "source": [
    "# import datetime as dt\n",
    "# dt.date.fromtimestamp(1554462304)"
   ]
  },
  {
   "cell_type": "markdown",
   "metadata": {},
   "source": [
    "Temp"
   ]
  },
  {
   "cell_type": "code",
   "execution_count": 9,
   "metadata": {},
   "outputs": [],
   "source": [
    "# fr['main'][0]['temp']-273.15"
   ]
  },
  {
   "cell_type": "markdown",
   "metadata": {},
   "source": [
    "Condinates"
   ]
  },
  {
   "cell_type": "code",
   "execution_count": 10,
   "metadata": {},
   "outputs": [],
   "source": [
    "# fr['city'][0]['coord']['lon'], fr['city'][0]['coord']['lat']"
   ]
  },
  {
   "cell_type": "code",
   "execution_count": 13,
   "metadata": {},
   "outputs": [
    {
     "data": {
      "application/vnd.jupyter.widget-view+json": {
       "model_id": "f983c90dade149e9ac7085bc63b3a1e3",
       "version_major": 2,
       "version_minor": 0
      },
      "text/plain": [
       "Figure(layout=FigureLayout(height='420px'))"
      ]
     },
     "metadata": {},
     "output_type": "display_data"
    }
   ],
   "source": [
    "import gmaps\n",
    "gmaps.configure(api_key='AI...')"
   ]
  },
  {
   "cell_type": "code",
   "execution_count": 22,
   "metadata": {},
   "outputs": [
    {
     "data": {
      "application/vnd.jupyter.widget-view+json": {
       "model_id": "7c11c0a80ee64781bb30c1218c8a34e8",
       "version_major": 2,
       "version_minor": 0
      },
      "text/plain": [
       "Figure(layout=FigureLayout(height='420px'))"
      ]
     },
     "metadata": {},
     "output_type": "display_data"
    }
   ],
   "source": [
    "fig = gmaps.figure()\n",
    "fig"
   ]
  },
  {
   "cell_type": "code",
   "execution_count": 30,
   "metadata": {},
   "outputs": [
    {
     "data": {
      "text/html": [
       "<div>\n",
       "<style scoped>\n",
       "    .dataframe tbody tr th:only-of-type {\n",
       "        vertical-align: middle;\n",
       "    }\n",
       "\n",
       "    .dataframe tbody tr th {\n",
       "        vertical-align: top;\n",
       "    }\n",
       "\n",
       "    .dataframe thead th {\n",
       "        text-align: right;\n",
       "    }\n",
       "</style>\n",
       "<table border=\"1\" class=\"dataframe\">\n",
       "  <thead>\n",
       "    <tr style=\"text-align: right;\">\n",
       "      <th></th>\n",
       "      <th>latitude</th>\n",
       "      <th>longitude</th>\n",
       "      <th>magnitude</th>\n",
       "    </tr>\n",
       "  </thead>\n",
       "  <tbody>\n",
       "    <tr>\n",
       "      <th>0</th>\n",
       "      <td>65.193300</td>\n",
       "      <td>-149.072500</td>\n",
       "      <td>1.70</td>\n",
       "    </tr>\n",
       "    <tr>\n",
       "      <th>1</th>\n",
       "      <td>38.791832</td>\n",
       "      <td>-122.780830</td>\n",
       "      <td>2.10</td>\n",
       "    </tr>\n",
       "    <tr>\n",
       "      <th>2</th>\n",
       "      <td>38.818001</td>\n",
       "      <td>-122.792168</td>\n",
       "      <td>0.48</td>\n",
       "    </tr>\n",
       "    <tr>\n",
       "      <th>3</th>\n",
       "      <td>33.601667</td>\n",
       "      <td>-116.727667</td>\n",
       "      <td>0.78</td>\n",
       "    </tr>\n",
       "    <tr>\n",
       "      <th>4</th>\n",
       "      <td>37.378334</td>\n",
       "      <td>-118.520836</td>\n",
       "      <td>3.64</td>\n",
       "    </tr>\n",
       "  </tbody>\n",
       "</table>\n",
       "</div>"
      ],
      "text/plain": [
       "    latitude   longitude  magnitude\n",
       "0  65.193300 -149.072500       1.70\n",
       "1  38.791832 -122.780830       2.10\n",
       "2  38.818001 -122.792168       0.48\n",
       "3  33.601667 -116.727667       0.78\n",
       "4  37.378334 -118.520836       3.64"
      ]
     },
     "execution_count": 30,
     "metadata": {},
     "output_type": "execute_result"
    }
   ],
   "source": [
    "import gmaps\n",
    "import gmaps.datasets\n",
    "\n",
    "gmaps.configure(api_key='AI...') # Fill in with your API key\n",
    "\n",
    "earthquake_df = gmaps.datasets.load_dataset_as_df('earthquakes')\n",
    "earthquake_df.head()"
   ]
  },
  {
   "cell_type": "code",
   "execution_count": 31,
   "metadata": {},
   "outputs": [
    {
     "data": {
      "application/vnd.jupyter.widget-view+json": {
       "model_id": "51f69b16eafd4e308c2febf02874dc31",
       "version_major": 2,
       "version_minor": 0
      },
      "text/plain": [
       "Figure(layout=FigureLayout(height='420px'))"
      ]
     },
     "metadata": {},
     "output_type": "display_data"
    }
   ],
   "source": [
    "locations = earthquake_df[['latitude', 'longitude']]\n",
    "weights = earthquake_df['magnitude']\n",
    "fig = gmaps.figure()\n",
    "fig.add_layer(gmaps.heatmap_layer(locations, weights=weights))\n",
    "fig"
   ]
  },
  {
   "cell_type": "code",
   "execution_count": null,
   "metadata": {},
   "outputs": [],
   "source": [
    "https://jupyter-gmaps.readthedocs.io/en/latest/tutorial.html"
   ]
  }
 ],
 "metadata": {
  "kernelspec": {
   "display_name": "Python 3",
   "language": "python",
   "name": "python3"
  },
  "language_info": {
   "codemirror_mode": {
    "name": "ipython",
    "version": 3
   },
   "file_extension": ".py",
   "mimetype": "text/x-python",
   "name": "python",
   "nbconvert_exporter": "python",
   "pygments_lexer": "ipython3",
   "version": "3.7.6"
  }
 },
 "nbformat": 4,
 "nbformat_minor": 2
}
